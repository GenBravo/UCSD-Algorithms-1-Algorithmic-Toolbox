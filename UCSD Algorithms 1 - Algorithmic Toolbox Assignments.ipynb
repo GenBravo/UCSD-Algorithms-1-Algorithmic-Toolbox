{
 "cells": [
  {
   "cell_type": "markdown",
   "id": "057eb198",
   "metadata": {},
   "source": [
    "# COURSE 1\n",
    "----------"
   ]
  },
  {
   "cell_type": "markdown",
   "id": "757ed65a",
   "metadata": {},
   "source": [
    "-----\n",
    "## Week 1. Programming Challenges\n",
    "-----"
   ]
  },
  {
   "cell_type": "markdown",
   "id": "62002767",
   "metadata": {},
   "source": [
    "## Task 1 of 2. \n",
    "### A plus B Problem"
   ]
  },
  {
   "cell_type": "markdown",
   "id": "00b4e799",
   "metadata": {},
   "source": [
    "*The problem is called A plus B. In this problem, we are given two digits on the standard input and our goal is to output their sum on the standard output.*"
   ]
  },
  {
   "cell_type": "code",
   "execution_count": 3,
   "id": "168bfc36",
   "metadata": {},
   "outputs": [
    {
     "name": "stdout",
     "output_type": "stream",
     "text": [
      "1 2\n",
      "3\n"
     ]
    }
   ],
   "source": [
    "def sum_of_two_digits(first_digit, second_digit):\n",
    "    return first_digit + second_digit\n",
    "\n",
    "\n",
    "if __name__ == '__main__':\n",
    "    a, b = map(int, input().split())\n",
    "    print(sum_of_two_digits(a, b))"
   ]
  },
  {
   "cell_type": "markdown",
   "id": "f4517923",
   "metadata": {},
   "source": [
    "## Task 2 of 2\n",
    "### Maximum Pairwise Product Problem"
   ]
  },
  {
   "cell_type": "markdown",
   "id": "ac70918c",
   "metadata": {},
   "source": [
    "*This problem will require us to implement a faster than a naive solution first, then to debug it, then to stress test it before we actually come up with a correct solution that will be able to pass all the tests in the testing system. So the problem is called the maximum prioritized product problem. In this problem, we're given an array, or a sequence of n numbers. And our goal is to find a number which can be obtained by multiplying some two numbers from this sequence.*"
   ]
  },
  {
   "cell_type": "code",
   "execution_count": 18,
   "id": "192eae30",
   "metadata": {},
   "outputs": [
    {
     "name": "stdout",
     "output_type": "stream",
     "text": [
      "2\n",
      "3 4 5 6 7 11 2\n",
      "77\n"
     ]
    }
   ],
   "source": [
    "def max_pairwise_product(numbers):\n",
    "#     n = len(numbers)\n",
    "#     max_product = 0\n",
    "#     for first in range(n):\n",
    "#         for second in range(first + 1, n):\n",
    "#             max_product = max(max_product,\n",
    "#                 numbers[first] * numbers[second])\n",
    "#     return max_product\n",
    "\n",
    "    max1 = 0\n",
    "    max2 = 0\n",
    "    max1_ind = -1\n",
    "    max2_ind = -1\n",
    "    max_product = 0\n",
    "    \n",
    "    #calculate first max number and its index\n",
    "    for index_counter, number in enumerate(numbers):\n",
    "        if number > max1:\n",
    "            max1 = number\n",
    "            max1_ind = index_counter\n",
    "            \n",
    "    #calculate second max number and its index\n",
    "    for index_counter, number in enumerate(numbers):\n",
    "        if (number > max2) and (index_counter != max1_ind):\n",
    "            max2 = number\n",
    "            max2_ind = index_counter\n",
    "\n",
    "    max_product = max1 * max2\n",
    "    \n",
    "    return max_product\n",
    "            \n",
    "\n",
    "if __name__ == '__main__':\n",
    "    _ = int(input())\n",
    "    input_numbers = list(map(int, input().split()))\n",
    "    print(max_pairwise_product(input_numbers))"
   ]
  },
  {
   "cell_type": "markdown",
   "id": "75fc84c3",
   "metadata": {},
   "source": [
    "-----\n",
    "-----\n",
    "## Week 2. Algorithmic Warm-up\n",
    "-----\n",
    "-----"
   ]
  },
  {
   "cell_type": "markdown",
   "id": "0ac6f227",
   "metadata": {},
   "source": [
    "## Task 1 of 8\n",
    "### Compute Fibonacci numbers"
   ]
  },
  {
   "cell_type": "markdown",
   "id": "abb58fec",
   "metadata": {},
   "source": [
    "*We'd like an algorithm that as input takes a non negative integer n and returns the nth Fibonacci number.*"
   ]
  },
  {
   "cell_type": "code",
   "execution_count": 20,
   "id": "39c1f383",
   "metadata": {},
   "outputs": [
    {
     "name": "stdout",
     "output_type": "stream",
     "text": [
      "18\n",
      "2584\n"
     ]
    }
   ],
   "source": [
    "def fibonacci_number(n):\n",
    "#     if n <= 1:\n",
    "#         return n\n",
    "\n",
    "#     return fibonacci_number(n - 1) + fibonacci_number(n - 2)\n",
    "    if n <= 1:\n",
    "        return n\n",
    "    \n",
    "    list_of_fib_nums = [0, 1]\n",
    "    \n",
    "    for ith_number in range(2, n+1):\n",
    "        ith_fib_num = list_of_fib_nums[ith_number-1] + list_of_fib_nums[ith_number-2]\n",
    "        list_of_fib_nums.append(ith_fib_num)\n",
    "\n",
    "    return list_of_fib_nums[n]\n",
    "\n",
    "if __name__ == '__main__':\n",
    "    input_n = int(input())\n",
    "    print(fibonacci_number(input_n))"
   ]
  },
  {
   "cell_type": "markdown",
   "id": "89df3fbd",
   "metadata": {},
   "source": [
    "## Task 2 of 8\n",
    "### Last digit of fibonacci number"
   ]
  },
  {
   "cell_type": "markdown",
   "id": "ac589958",
   "metadata": {},
   "source": [
    "*Compute the last digit of the n-th Fibonacci\n",
    "number.*\n",
    "\n",
    "*Input: An integer n.*\n",
    "\n",
    "*Output: The last digit of the n-th\n",
    "Fibonacci number.*"
   ]
  },
  {
   "cell_type": "code",
   "execution_count": 52,
   "id": "fcb00198",
   "metadata": {},
   "outputs": [
    {
     "name": "stdout",
     "output_type": "stream",
     "text": [
      "91239\n",
      "6\n"
     ]
    }
   ],
   "source": [
    "def fibonacci_last_digit(n):\n",
    "    if n <= 1:\n",
    "        return n\n",
    "\n",
    "    previous = 0\n",
    "    current  = 1\n",
    "\n",
    "    for _ in range(n - 1):\n",
    "        previous, current = current, previous + current\n",
    "\n",
    "    return current % 10\n",
    "\n",
    "\n",
    "if __name__ == '__main__':\n",
    "    n = int(input())\n",
    "    print(fibonacci_last_digit(n))"
   ]
  },
  {
   "cell_type": "markdown",
   "id": "04a04262",
   "metadata": {},
   "source": [
    "## Task 3 of 8\n",
    "### Greatest Common Divisor"
   ]
  },
  {
   "cell_type": "markdown",
   "id": "945161e9",
   "metadata": {},
   "source": [
    "*For two integers, a and b, their greatest common divisor, or GCD, is the largest integer d that divides both a and b. Okay, so this is a thing that you use to reduce fractions. However, it turns out that GCDs are a critically important concept in the field of number theory.*\n",
    "\n",
    "*So, we'd like an algorithm that, given two integers, a and b, at say, at least 0, we can compute the GCD of a and b. And, just to be clear as to what kinds of inputs we care about, we'd actually like to be able to run this on very large numbers. We don't just want something that works for GCD of 5 and 12, or 11 and 73. We'd like to be able to do things like the GCD of 3,918,848 with 1,653,264. In fact, we'd also like to be able to compute much bigger numbers, 20, 50, 100, 1000 digits. We'd still like to be able to get GCDs of numbers of those sizes pretty quickly.*"
   ]
  },
  {
   "cell_type": "code",
   "execution_count": 51,
   "id": "5b99ff59",
   "metadata": {
    "scrolled": true
   },
   "outputs": [
    {
     "name": "stdout",
     "output_type": "stream",
     "text": [
      "3918848 1653264\n",
      "61232\n"
     ]
    }
   ],
   "source": [
    "def gcd(a, b):\n",
    "#     current_gcd = 1\n",
    "#     for d in range(2, min(a, b) + 1):\n",
    "#         if a % d == 0 and b % d == 0:\n",
    "#             if d > current_gcd:\n",
    "#                 current_gcd = d\n",
    "\n",
    "#     return current_gcd\n",
    "     \n",
    "    if (a == 0) and (b != 0):\n",
    "        #print('returning b' + a + b)\n",
    "        return b\n",
    "    elif (b == 0) and (a != 0):\n",
    "        #print('returning a', a, b)\n",
    "        return a\n",
    "    elif (a == 0) and (b == 0):\n",
    "        #print('returning zero')\n",
    "        return 0\n",
    "    \n",
    "        \n",
    "    if a > b:\n",
    "        remainder = a % b\n",
    "        a, b = b, remainder\n",
    "        #print(a,b)\n",
    "        return gcd(a, b)\n",
    "        \n",
    "    elif b > a:\n",
    "        remainder = b % a\n",
    "        b, a = a, remainder\n",
    "        #print(a,b)\n",
    "        return gcd(a, b)\n",
    "    \n",
    "\n",
    "\n",
    "if __name__ == \"__main__\":\n",
    "    a, b = map(int, input().split())\n",
    "    print(gcd(a, b))"
   ]
  },
  {
   "cell_type": "code",
   "execution_count": null,
   "id": "3e563002",
   "metadata": {},
   "outputs": [],
   "source": [
    "# 3918848 1653264\n",
    "# 1653264 612320\n",
    "# 612320 428624\n",
    "# 428624 183696\n",
    "# 183696 61232\n",
    "# 61232 0\n",
    "# returning a 61232 0\n",
    "# None"
   ]
  },
  {
   "cell_type": "markdown",
   "id": "c8fcee39",
   "metadata": {},
   "source": [
    "## Task 4 of 8\n",
    "### Least Common Multiple"
   ]
  },
  {
   "cell_type": "markdown",
   "id": "26d97dae",
   "metadata": {},
   "source": [
    "*The least common multiple LCM (a, b) of two positive integers a and b is the smallest integer that is divisible by both a and b.*"
   ]
  },
  {
   "cell_type": "code",
   "execution_count": 50,
   "id": "c5eab5d2",
   "metadata": {},
   "outputs": [
    {
     "name": "stdout",
     "output_type": "stream",
     "text": [
      "8 15\n",
      "120\n"
     ]
    }
   ],
   "source": [
    "def lcm(a, b):\n",
    "#     for l in range(1, a * b + 1):\n",
    "#         if l % a == 0 and l % b == 0:\n",
    "#             return l\n",
    "\n",
    "#     assert False\n",
    "\n",
    "    if (a < 1) or (b < 1):\n",
    "        return None\n",
    "    \n",
    "    gcd_of_ab = gcd(a, b)\n",
    "    \n",
    "    lcm_of_ab = a * (b / gcd_of_ab)\n",
    "    \n",
    "    return int(lcm_of_ab)\n",
    "\n",
    "\n",
    "if __name__ == '__main__':\n",
    "    a, b = map(int, input().split())\n",
    "    print(lcm(a, b))\n"
   ]
  },
  {
   "cell_type": "markdown",
   "id": "59f7ad2b",
   "metadata": {},
   "source": [
    "## Task 5 of 8\n",
    "### Huge Fibonacci Number"
   ]
  },
  {
   "cell_type": "markdown",
   "id": "b4d0d073",
   "metadata": {},
   "source": [
    "*Compute the n-th Fibonacci number modulo m.\n",
    "Input: Integers n and m.\n",
    "Output: n-th Fibonacci number modulo m.*"
   ]
  },
  {
   "cell_type": "code",
   "execution_count": 54,
   "id": "18b6a9fe",
   "metadata": {},
   "outputs": [
    {
     "name": "stdout",
     "output_type": "stream",
     "text": [
      "2816213588 239\n",
      "151\n"
     ]
    }
   ],
   "source": [
    "def fibonacci_huge_naive(n, m):\n",
    "#     if n <= 1:\n",
    "#         return n\n",
    "\n",
    "#     previous = 0\n",
    "#     current  = 1\n",
    "\n",
    "#     for _ in range(n - 1):\n",
    "#         previous, current = current, previous + current\n",
    "\n",
    "#     return current % m\n",
    "\n",
    "\n",
    "# For a given value of N and M >= 2, the series generated with Fi modulo M (for i in range(N)) is periodic. \n",
    "# The period always starts with 01. The Pisano Period is defined as the length of the period of this series.\n",
    "# For M = 2, the period is 011 and has length 3 while for M = 3 the sequence repeats after 8 nos.\n",
    "    #Pisano period\n",
    "    \n",
    "    def pisanoPeriod(m):\n",
    "        \n",
    "        previous, current = 0, 1\n",
    "        \n",
    "        for i in range(0, m * m):\n",
    "            previous, current = current, (previous + current) % m\n",
    "\n",
    "            # A Pisano Period starts with 01\n",
    "            if (previous == 0 and current == 1):\n",
    "                return i + 1\n",
    "\n",
    "\n",
    "    # Getting the period\n",
    "    pisano_period = pisanoPeriod(m)\n",
    "\n",
    "    # Taking mod of N with period length\n",
    "    n = n % pisano_period\n",
    "\n",
    "    previous, current = 0, 1\n",
    "    \n",
    "    if n==0:\n",
    "        return 0\n",
    "    elif n==1:\n",
    "        return 1\n",
    "    for i in range(n-1):\n",
    "        previous, current = current, previous + current\n",
    "\n",
    "    return (current % m)\n",
    "\n",
    "\n",
    "if __name__ == '__main__':\n",
    "    n, m = map(int, input().split())\n",
    "    print(fibonacci_huge_naive(n, m))"
   ]
  },
  {
   "cell_type": "markdown",
   "id": "71ebc785",
   "metadata": {},
   "source": [
    "## Task 6 of 8"
   ]
  },
  {
   "cell_type": "code",
   "execution_count": null,
   "id": "3d24cfd4",
   "metadata": {},
   "outputs": [],
   "source": []
  },
  {
   "cell_type": "markdown",
   "id": "1bbfdfdd",
   "metadata": {},
   "source": [
    "## Task 7 of 8"
   ]
  },
  {
   "cell_type": "code",
   "execution_count": null,
   "id": "5aca586b",
   "metadata": {},
   "outputs": [],
   "source": []
  },
  {
   "cell_type": "markdown",
   "id": "01172a39",
   "metadata": {},
   "source": [
    "## Task 8 of 8"
   ]
  },
  {
   "cell_type": "code",
   "execution_count": null,
   "id": "1905bc86",
   "metadata": {},
   "outputs": [],
   "source": []
  },
  {
   "cell_type": "markdown",
   "id": "bfa884d4",
   "metadata": {},
   "source": [
    "## Bonus. Interview questions"
   ]
  },
  {
   "cell_type": "markdown",
   "id": "62858618",
   "metadata": {},
   "source": [
    "<img src=\"C1_W2_interview%20questions.png\" width=\"450\">"
   ]
  },
  {
   "cell_type": "markdown",
   "id": "956f1934",
   "metadata": {},
   "source": [
    "-----\n",
    "-----\n",
    "## Week 3. Greedy Algorithms\n",
    "-----\n",
    "-----"
   ]
  },
  {
   "cell_type": "markdown",
   "id": "214c9cbb",
   "metadata": {},
   "source": [
    "## Task 1 of 7\n",
    "### "
   ]
  },
  {
   "cell_type": "markdown",
   "id": "507585bf",
   "metadata": {},
   "source": [
    "## Task 2 of 7\n",
    "### "
   ]
  },
  {
   "cell_type": "markdown",
   "id": "e94348c1",
   "metadata": {},
   "source": [
    "## Task 3 of 7\n",
    "### "
   ]
  },
  {
   "cell_type": "markdown",
   "id": "569109db",
   "metadata": {},
   "source": [
    "## Task 4 of 7\n",
    "### "
   ]
  },
  {
   "cell_type": "markdown",
   "id": "2ff9f6fd",
   "metadata": {},
   "source": [
    "## Task 5 of 7\n",
    "### "
   ]
  },
  {
   "cell_type": "markdown",
   "id": "1506d701",
   "metadata": {},
   "source": [
    "## Task 6 of 7\n",
    "### "
   ]
  },
  {
   "cell_type": "markdown",
   "id": "6d13ab3a",
   "metadata": {},
   "source": [
    "## Task 7 of 7\n",
    "### "
   ]
  },
  {
   "cell_type": "markdown",
   "id": "fa458733",
   "metadata": {},
   "source": [
    "-----\n",
    "## Week 4. Divide-and-Conquer\n",
    "-----"
   ]
  },
  {
   "cell_type": "markdown",
   "id": "997d3211",
   "metadata": {},
   "source": [
    "## Task 1 of 7\n",
    "### "
   ]
  },
  {
   "cell_type": "markdown",
   "id": "b34e0f3e",
   "metadata": {},
   "source": [
    "## Task 2 of 7\n",
    "### "
   ]
  },
  {
   "cell_type": "markdown",
   "id": "078a5961",
   "metadata": {},
   "source": [
    "## Task 3 of 7\n",
    "### "
   ]
  },
  {
   "cell_type": "markdown",
   "id": "c9a7279c",
   "metadata": {},
   "source": [
    "## Task 4 of 7\n",
    "### "
   ]
  },
  {
   "cell_type": "markdown",
   "id": "f825831e",
   "metadata": {},
   "source": [
    "## Task 5 of 7\n",
    "### "
   ]
  },
  {
   "cell_type": "markdown",
   "id": "b776b48b",
   "metadata": {},
   "source": [
    "## Task 6 of 7\n",
    "### "
   ]
  },
  {
   "cell_type": "markdown",
   "id": "e3375b37",
   "metadata": {},
   "source": [
    "## Task 7 of 7\n",
    "### "
   ]
  },
  {
   "cell_type": "markdown",
   "id": "2fd4baca",
   "metadata": {},
   "source": [
    "-----\n",
    "## Week 5. Dynamic Programming 1\n",
    "-----"
   ]
  },
  {
   "cell_type": "markdown",
   "id": "5f9e0aa2",
   "metadata": {},
   "source": [
    "## Task 1 of 5\n",
    "### "
   ]
  },
  {
   "cell_type": "markdown",
   "id": "aae03552",
   "metadata": {},
   "source": [
    "## Task 2 of 5\n",
    "### "
   ]
  },
  {
   "cell_type": "markdown",
   "id": "349aabfe",
   "metadata": {},
   "source": [
    "## Task 3 of 5\n",
    "### "
   ]
  },
  {
   "cell_type": "markdown",
   "id": "c8aa4183",
   "metadata": {},
   "source": [
    "## Task 4 of 5\n",
    "### "
   ]
  },
  {
   "cell_type": "markdown",
   "id": "5a640c4b",
   "metadata": {},
   "source": [
    "## Task 5 of 5\n",
    "### "
   ]
  },
  {
   "cell_type": "markdown",
   "id": "0808efe2",
   "metadata": {},
   "source": [
    "-----\n",
    "## Week 6. Dynamic Programming 2\n",
    "-----"
   ]
  },
  {
   "cell_type": "markdown",
   "id": "b7366cfa",
   "metadata": {},
   "source": [
    "## Task 1 of 3\n",
    "### "
   ]
  },
  {
   "cell_type": "markdown",
   "id": "6b14aac8",
   "metadata": {},
   "source": [
    "## Task 2 of 3\n",
    "### "
   ]
  },
  {
   "cell_type": "markdown",
   "id": "0aeb5541",
   "metadata": {},
   "source": [
    "## Task 3 of 3\n",
    "### "
   ]
  },
  {
   "cell_type": "code",
   "execution_count": null,
   "id": "9cbc2d69",
   "metadata": {},
   "outputs": [],
   "source": []
  }
 ],
 "metadata": {
  "kernelspec": {
   "display_name": "Python 3 (ipykernel)",
   "language": "python",
   "name": "python3"
  },
  "language_info": {
   "codemirror_mode": {
    "name": "ipython",
    "version": 3
   },
   "file_extension": ".py",
   "mimetype": "text/x-python",
   "name": "python",
   "nbconvert_exporter": "python",
   "pygments_lexer": "ipython3",
   "version": "3.10.11"
  }
 },
 "nbformat": 4,
 "nbformat_minor": 5
}
