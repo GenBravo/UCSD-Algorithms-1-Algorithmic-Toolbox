{
 "cells": [
  {
   "cell_type": "markdown",
   "id": "057eb198",
   "metadata": {},
   "source": [
    "# COURSE 1\n",
    "----------"
   ]
  },
  {
   "cell_type": "markdown",
   "id": "757ed65a",
   "metadata": {},
   "source": [
    "-----\n",
    "## Week 1\n",
    "-----"
   ]
  },
  {
   "cell_type": "markdown",
   "id": "62002767",
   "metadata": {},
   "source": [
    "## Task 1 of 2. \n",
    "### A plus B Problem"
   ]
  },
  {
   "cell_type": "markdown",
   "id": "69c6fdb2",
   "metadata": {},
   "source": [
    "*The problem is called A plus B. In this problem, we are given two digits on the standard input and our goal is to output their sum on the standard output.*"
   ]
  },
  {
   "cell_type": "code",
   "execution_count": 3,
   "id": "168bfc36",
   "metadata": {},
   "outputs": [
    {
     "name": "stdout",
     "output_type": "stream",
     "text": [
      "1 2\n",
      "3\n"
     ]
    }
   ],
   "source": [
    "def sum_of_two_digits(first_digit, second_digit):\n",
    "    return first_digit + second_digit\n",
    "\n",
    "\n",
    "if __name__ == '__main__':\n",
    "    a, b = map(int, input().split())\n",
    "    print(sum_of_two_digits(a, b))"
   ]
  },
  {
   "cell_type": "markdown",
   "id": "0cde2728",
   "metadata": {},
   "source": [
    "## Task 2 of 2\n",
    "### Maximum Pairwise Product Problem"
   ]
  },
  {
   "cell_type": "markdown",
   "id": "4c74ba90",
   "metadata": {},
   "source": [
    "*This problem will require us to implement a faster than a naive solution first, then to debug it, then to stress test it before we actually come up with a correct solution that will be able to pass all the tests in the testing system. So the problem is called the maximum prioritized product problem. In this problem, we're given an array, or a sequence of n numbers. And our goal is to find a number which can be obtained by multiplying some two numbers from this sequence.*"
   ]
  },
  {
   "cell_type": "code",
   "execution_count": 18,
   "id": "bdb531ba",
   "metadata": {},
   "outputs": [
    {
     "name": "stdout",
     "output_type": "stream",
     "text": [
      "2\n",
      "3 4 5 6 7 11 2\n",
      "77\n"
     ]
    }
   ],
   "source": [
    "def max_pairwise_product(numbers):\n",
    "#     n = len(numbers)\n",
    "#     max_product = 0\n",
    "#     for first in range(n):\n",
    "#         for second in range(first + 1, n):\n",
    "#             max_product = max(max_product,\n",
    "#                 numbers[first] * numbers[second])\n",
    "#     return max_product\n",
    "\n",
    "    max1 = 0\n",
    "    max2 = 0\n",
    "    max1_ind = -1\n",
    "    max2_ind = -1\n",
    "    max_product = 0\n",
    "    \n",
    "    #calculate first max number and its index\n",
    "    for index_counter, number in enumerate(numbers):\n",
    "        if number > max1:\n",
    "            max1 = number\n",
    "            max1_ind = index_counter\n",
    "            \n",
    "    #calculate second max number and its index\n",
    "    for index_counter, number in enumerate(numbers):\n",
    "        if (number > max2) and (index_counter != max1_ind):\n",
    "            max2 = number\n",
    "            max2_ind = index_counter\n",
    "\n",
    "    max_product = max1 * max2\n",
    "    \n",
    "    return max_product\n",
    "            \n",
    "\n",
    "if __name__ == '__main__':\n",
    "    _ = int(input())\n",
    "    input_numbers = list(map(int, input().split()))\n",
    "    print(max_pairwise_product(input_numbers))"
   ]
  },
  {
   "cell_type": "markdown",
   "id": "555e5d02",
   "metadata": {},
   "source": [
    "-----\n",
    "## Week 2\n",
    "-----"
   ]
  },
  {
   "cell_type": "markdown",
   "id": "0312d141",
   "metadata": {},
   "source": [
    "## Task 1 of 8\n",
    "### Compute Fibonacci numbers"
   ]
  },
  {
   "cell_type": "markdown",
   "id": "eaeca021",
   "metadata": {},
   "source": [
    "*We'd like an algorithm that as input takes a non negative integer n and returns the nth Fibonacci number.*"
   ]
  },
  {
   "cell_type": "code",
   "execution_count": 20,
   "id": "cc2822f3",
   "metadata": {},
   "outputs": [
    {
     "name": "stdout",
     "output_type": "stream",
     "text": [
      "18\n",
      "2584\n"
     ]
    }
   ],
   "source": [
    "def fibonacci_number(n):\n",
    "#     if n <= 1:\n",
    "#         return n\n",
    "\n",
    "#     return fibonacci_number(n - 1) + fibonacci_number(n - 2)\n",
    "    if n <= 1:\n",
    "        return n\n",
    "    \n",
    "    list_of_fib_nums = [0, 1]\n",
    "    \n",
    "    for ith_number in range(2, n+1):\n",
    "        ith_fib_num = list_of_fib_nums[ith_number-1] + list_of_fib_nums[ith_number-2]\n",
    "        list_of_fib_nums.append(ith_fib_num)\n",
    "\n",
    "    return list_of_fib_nums[n]\n",
    "\n",
    "if __name__ == '__main__':\n",
    "    input_n = int(input())\n",
    "    print(fibonacci_number(input_n))"
   ]
  },
  {
   "cell_type": "markdown",
   "id": "8a5b1f5d",
   "metadata": {},
   "source": [
    "## Task 2 of 8\n",
    "### Last digit of fibonacci number"
   ]
  },
  {
   "cell_type": "code",
   "execution_count": 21,
   "id": "894c386d",
   "metadata": {},
   "outputs": [
    {
     "name": "stdout",
     "output_type": "stream",
     "text": [
      "18\n",
      "4\n"
     ]
    }
   ],
   "source": [
    "def fibonacci_last_digit(n):\n",
    "    if n <= 1:\n",
    "        return n\n",
    "\n",
    "    previous = 0\n",
    "    current  = 1\n",
    "\n",
    "    for _ in range(n - 1):\n",
    "        previous, current = current, previous + current\n",
    "\n",
    "    return current % 10\n",
    "\n",
    "\n",
    "if __name__ == '__main__':\n",
    "    n = int(input())\n",
    "    print(fibonacci_last_digit(n))"
   ]
  },
  {
   "cell_type": "markdown",
   "id": "aa88d17a",
   "metadata": {},
   "source": [
    "## Task 3 of 8\n",
    "### Greatest Common Divisor"
   ]
  },
  {
   "cell_type": "markdown",
   "id": "ef7de496",
   "metadata": {},
   "source": [
    "*For two integers, a and b, their greatest common divisor, or GCD, is the largest integer d that divides both a and b. Okay, so this is a thing that you use to reduce fractions. However, it turns out that GCDs are a critically important concept in the field of number theory.*\n",
    "\n",
    "*So, we'd like an algorithm that, given two integers, a and b, at say, at least 0, we can compute the GCD of a and b. And, just to be clear as to what kinds of inputs we care about, we'd actually like to be able to run this on very large numbers. We don't just want something that works for GCD of 5 and 12, or 11 and 73. We'd like to be able to do things like the GCD of 3,918,848 with 1,653,264. In fact, we'd also like to be able to compute much bigger numbers, 20, 50, 100, 1000 digits. We'd still like to be able to get GCDs of numbers of those sizes pretty quickly.*"
   ]
  },
  {
   "cell_type": "code",
   "execution_count": 22,
   "id": "5e1856b1",
   "metadata": {},
   "outputs": [
    {
     "name": "stdout",
     "output_type": "stream",
     "text": [
      "3918848 1653264\n",
      "1653264 612320\n",
      "612320 428624\n",
      "428624 183696\n",
      "183696 61232\n",
      "61232 0\n",
      "None\n"
     ]
    }
   ],
   "source": [
    "def gcd(a, b):\n",
    "#     current_gcd = 1\n",
    "#     for d in range(2, min(a, b) + 1):\n",
    "#         if a % d == 0 and b % d == 0:\n",
    "#             if d > current_gcd:\n",
    "#                 current_gcd = d\n",
    "\n",
    "#     return current_gcd\n",
    "   \n",
    "    \n",
    "    if (a == 0) and (b != 0):\n",
    "        return b\n",
    "    elif (b == 0) and (a != 0):\n",
    "        return a\n",
    "    elif (a == 0) and (b == 0):\n",
    "        return 0\n",
    "    \n",
    "    \n",
    "    if a > b:\n",
    "        remainder = a % b\n",
    "        a, b = b, remainder\n",
    "        print(a,b)\n",
    "        gcd(a, b)\n",
    "    elif b > a:\n",
    "        remainder = b % a\n",
    "        b, a = a, remainder\n",
    "        print(a,b)\n",
    "        gcd(a, b)\n",
    "    \n",
    "\n",
    "\n",
    "if __name__ == \"__main__\":\n",
    "    a, b = map(int, input().split())\n",
    "    print(gcd(a, b))"
   ]
  },
  {
   "cell_type": "markdown",
   "id": "b3facf56",
   "metadata": {},
   "source": [
    "## Task 4 of 8"
   ]
  },
  {
   "cell_type": "code",
   "execution_count": null,
   "id": "aa5b8514",
   "metadata": {},
   "outputs": [],
   "source": []
  },
  {
   "cell_type": "markdown",
   "id": "5b56f654",
   "metadata": {},
   "source": [
    "## Task 5 of 8"
   ]
  },
  {
   "cell_type": "code",
   "execution_count": null,
   "id": "0142ce9b",
   "metadata": {},
   "outputs": [],
   "source": []
  },
  {
   "cell_type": "markdown",
   "id": "81336d2c",
   "metadata": {},
   "source": [
    "## Task 6 of 8"
   ]
  },
  {
   "cell_type": "code",
   "execution_count": null,
   "id": "eb2c36c1",
   "metadata": {},
   "outputs": [],
   "source": []
  },
  {
   "cell_type": "markdown",
   "id": "103a9264",
   "metadata": {},
   "source": [
    "## Task 7 of 8"
   ]
  },
  {
   "cell_type": "code",
   "execution_count": null,
   "id": "63b2030d",
   "metadata": {},
   "outputs": [],
   "source": []
  },
  {
   "cell_type": "markdown",
   "id": "9188ccb8",
   "metadata": {},
   "source": [
    "## Task 8 of 8"
   ]
  },
  {
   "cell_type": "code",
   "execution_count": null,
   "id": "e8c0969e",
   "metadata": {},
   "outputs": [],
   "source": []
  }
 ],
 "metadata": {
  "kernelspec": {
   "display_name": "Python 3 (ipykernel)",
   "language": "python",
   "name": "python3"
  },
  "language_info": {
   "codemirror_mode": {
    "name": "ipython",
    "version": 3
   },
   "file_extension": ".py",
   "mimetype": "text/x-python",
   "name": "python",
   "nbconvert_exporter": "python",
   "pygments_lexer": "ipython3",
   "version": "3.10.11"
  }
 },
 "nbformat": 4,
 "nbformat_minor": 5
}
