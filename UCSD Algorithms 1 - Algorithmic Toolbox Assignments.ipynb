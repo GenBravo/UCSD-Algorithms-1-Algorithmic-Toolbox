{
 "cells": [
  {
   "cell_type": "markdown",
   "id": "057eb198",
   "metadata": {},
   "source": [
    "# COURSE 1\n",
    "----------"
   ]
  },
  {
   "cell_type": "markdown",
   "id": "757ed65a",
   "metadata": {},
   "source": [
    "-----\n",
    "## Week 1. Programming Challenges\n",
    "-----"
   ]
  },
  {
   "cell_type": "markdown",
   "id": "62002767",
   "metadata": {},
   "source": [
    "## Task 1 of 2. \n",
    "### A plus B Problem"
   ]
  },
  {
   "cell_type": "markdown",
   "id": "00b4e799",
   "metadata": {},
   "source": [
    "*The problem is called A plus B. In this problem, we are given two digits on the standard input and our goal is to output their sum on the standard output.*"
   ]
  },
  {
   "cell_type": "code",
   "execution_count": 3,
   "id": "168bfc36",
   "metadata": {},
   "outputs": [
    {
     "name": "stdout",
     "output_type": "stream",
     "text": [
      "1 2\n",
      "3\n"
     ]
    }
   ],
   "source": [
    "def sum_of_two_digits(first_digit, second_digit):\n",
    "    return first_digit + second_digit\n",
    "\n",
    "\n",
    "if __name__ == '__main__':\n",
    "    a, b = map(int, input().split())\n",
    "    print(sum_of_two_digits(a, b))"
   ]
  },
  {
   "cell_type": "markdown",
   "id": "f4517923",
   "metadata": {},
   "source": [
    "## Task 2 of 2\n",
    "### Maximum Pairwise Product Problem"
   ]
  },
  {
   "cell_type": "markdown",
   "id": "ac70918c",
   "metadata": {},
   "source": [
    "*This problem will require us to implement a faster than a naive solution first, then to debug it, then to stress test it before we actually come up with a correct solution that will be able to pass all the tests in the testing system. So the problem is called the maximum prioritized product problem. In this problem, we're given an array, or a sequence of n numbers. And our goal is to find a number which can be obtained by multiplying some two numbers from this sequence.*"
   ]
  },
  {
   "cell_type": "code",
   "execution_count": 18,
   "id": "192eae30",
   "metadata": {},
   "outputs": [
    {
     "name": "stdout",
     "output_type": "stream",
     "text": [
      "2\n",
      "3 4 5 6 7 11 2\n",
      "77\n"
     ]
    }
   ],
   "source": [
    "def max_pairwise_product(numbers):\n",
    "#     n = len(numbers)\n",
    "#     max_product = 0\n",
    "#     for first in range(n):\n",
    "#         for second in range(first + 1, n):\n",
    "#             max_product = max(max_product,\n",
    "#                 numbers[first] * numbers[second])\n",
    "#     return max_product\n",
    "\n",
    "    max1 = 0\n",
    "    max2 = 0\n",
    "    max1_ind = -1\n",
    "    max2_ind = -1\n",
    "    max_product = 0\n",
    "    \n",
    "    #calculate first max number and its index\n",
    "    for index_counter, number in enumerate(numbers):\n",
    "        if number > max1:\n",
    "            max1 = number\n",
    "            max1_ind = index_counter\n",
    "            \n",
    "    #calculate second max number and its index\n",
    "    for index_counter, number in enumerate(numbers):\n",
    "        if (number > max2) and (index_counter != max1_ind):\n",
    "            max2 = number\n",
    "            max2_ind = index_counter\n",
    "\n",
    "    max_product = max1 * max2\n",
    "    \n",
    "    return max_product\n",
    "            \n",
    "\n",
    "if __name__ == '__main__':\n",
    "    _ = int(input())\n",
    "    input_numbers = list(map(int, input().split()))\n",
    "    print(max_pairwise_product(input_numbers))"
   ]
  },
  {
   "cell_type": "markdown",
   "id": "75fc84c3",
   "metadata": {},
   "source": [
    "-----\n",
    "-----\n",
    "## Week 2. Algorithmic Warm-up\n",
    "-----\n",
    "-----"
   ]
  },
  {
   "cell_type": "markdown",
   "id": "0ac6f227",
   "metadata": {},
   "source": [
    "## Task 1 of 8\n",
    "### Compute Fibonacci numbers"
   ]
  },
  {
   "cell_type": "markdown",
   "id": "abb58fec",
   "metadata": {},
   "source": [
    "*We'd like an algorithm that as input takes a non negative integer n and returns the nth Fibonacci number.*"
   ]
  },
  {
   "cell_type": "code",
   "execution_count": 20,
   "id": "39c1f383",
   "metadata": {},
   "outputs": [
    {
     "name": "stdout",
     "output_type": "stream",
     "text": [
      "18\n",
      "2584\n"
     ]
    }
   ],
   "source": [
    "def fibonacci_number(n):\n",
    "#     if n <= 1:\n",
    "#         return n\n",
    "\n",
    "#     return fibonacci_number(n - 1) + fibonacci_number(n - 2)\n",
    "    if n <= 1:\n",
    "        return n\n",
    "    \n",
    "    list_of_fib_nums = [0, 1]\n",
    "    \n",
    "    for ith_number in range(2, n+1):\n",
    "        ith_fib_num = list_of_fib_nums[ith_number-1] + list_of_fib_nums[ith_number-2]\n",
    "        list_of_fib_nums.append(ith_fib_num)\n",
    "\n",
    "    return list_of_fib_nums[n]\n",
    "\n",
    "if __name__ == '__main__':\n",
    "    input_n = int(input())\n",
    "    print(fibonacci_number(input_n))"
   ]
  },
  {
   "cell_type": "markdown",
   "id": "89df3fbd",
   "metadata": {},
   "source": [
    "## Task 2 of 8\n",
    "### Last digit of fibonacci number"
   ]
  },
  {
   "cell_type": "markdown",
   "id": "ac589958",
   "metadata": {},
   "source": [
    "*Compute the last digit of the n-th Fibonacci\n",
    "number.*\n",
    "\n",
    "*Input: An integer n.*\n",
    "\n",
    "*Output: The last digit of the n-th\n",
    "Fibonacci number.*"
   ]
  },
  {
   "cell_type": "code",
   "execution_count": 6,
   "id": "fcb00198",
   "metadata": {},
   "outputs": [
    {
     "name": "stdout",
     "output_type": "stream",
     "text": [
      "91239\n",
      "6\n"
     ]
    }
   ],
   "source": [
    "def fibonacci_last_digit(n):\n",
    "#     if n <= 1:\n",
    "#         return n\n",
    "\n",
    "#     previous = 0\n",
    "#     current  = 1\n",
    "\n",
    "#     for _ in range(n - 1):\n",
    "#         previous, current = current, previous + current\n",
    "\n",
    "#     return current % 10\n",
    "    \n",
    "    \n",
    "# The sequence of final digits in Fibonacci numbers repeats in cycles of 60. \n",
    "# The last two digits repeat in 300, the last three in 1500, the last four in , etc. \n",
    "# The number of Fibonacci numbers between and is either 1 or 2 (Wells 1986, p. 65).\n",
    "# http://mathworld.wolfram.com/FibonacciNumber.html\n",
    "\n",
    "    remainder = n % 60\n",
    "    \n",
    "    previous = 0\n",
    "    current = 1\n",
    "    \n",
    "    for _ in range(remainder - 1):\n",
    "        previous, current = current, previous + current\n",
    "    \n",
    "    return current % 10\n",
    "\n",
    "\n",
    "if __name__ == '__main__':\n",
    "    n = int(input())\n",
    "    print(fibonacci_last_digit(n))"
   ]
  },
  {
   "cell_type": "markdown",
   "id": "04a04262",
   "metadata": {},
   "source": [
    "## Task 3 of 8\n",
    "### Greatest Common Divisor"
   ]
  },
  {
   "cell_type": "markdown",
   "id": "945161e9",
   "metadata": {},
   "source": [
    "*For two integers, a and b, their greatest common divisor, or GCD, is the largest integer d that divides both a and b. Okay, so this is a thing that you use to reduce fractions. However, it turns out that GCDs are a critically important concept in the field of number theory.*\n",
    "\n",
    "*So, we'd like an algorithm that, given two integers, a and b, at say, at least 0, we can compute the GCD of a and b. And, just to be clear as to what kinds of inputs we care about, we'd actually like to be able to run this on very large numbers. We don't just want something that works for GCD of 5 and 12, or 11 and 73. We'd like to be able to do things like the GCD of 3,918,848 with 1,653,264. In fact, we'd also like to be able to compute much bigger numbers, 20, 50, 100, 1000 digits. We'd still like to be able to get GCDs of numbers of those sizes pretty quickly.*"
   ]
  },
  {
   "cell_type": "code",
   "execution_count": 51,
   "id": "5b99ff59",
   "metadata": {
    "scrolled": true
   },
   "outputs": [
    {
     "name": "stdout",
     "output_type": "stream",
     "text": [
      "3918848 1653264\n",
      "61232\n"
     ]
    }
   ],
   "source": [
    "def gcd(a, b):\n",
    "#     current_gcd = 1\n",
    "#     for d in range(2, min(a, b) + 1):\n",
    "#         if a % d == 0 and b % d == 0:\n",
    "#             if d > current_gcd:\n",
    "#                 current_gcd = d\n",
    "\n",
    "#     return current_gcd\n",
    "     \n",
    "    if (a == 0) and (b != 0):\n",
    "        #print('returning b' + a + b)\n",
    "        return b\n",
    "    elif (b == 0) and (a != 0):\n",
    "        #print('returning a', a, b)\n",
    "        return a\n",
    "    elif (a == 0) and (b == 0):\n",
    "        #print('returning zero')\n",
    "        return 0\n",
    "    \n",
    "        \n",
    "    if a > b:\n",
    "        remainder = a % b\n",
    "        a, b = b, remainder\n",
    "        #print(a,b)\n",
    "        return gcd(a, b)\n",
    "        \n",
    "    elif b > a:\n",
    "        remainder = b % a\n",
    "        b, a = a, remainder\n",
    "        #print(a,b)\n",
    "        return gcd(a, b)\n",
    "    \n",
    "\n",
    "\n",
    "if __name__ == \"__main__\":\n",
    "    a, b = map(int, input().split())\n",
    "    print(gcd(a, b))"
   ]
  },
  {
   "cell_type": "code",
   "execution_count": null,
   "id": "3e563002",
   "metadata": {},
   "outputs": [],
   "source": [
    "# 3918848 1653264\n",
    "# 1653264 612320\n",
    "# 612320 428624\n",
    "# 428624 183696\n",
    "# 183696 61232\n",
    "# 61232 0\n",
    "# returning a 61232 0\n",
    "# None"
   ]
  },
  {
   "cell_type": "markdown",
   "id": "c8fcee39",
   "metadata": {},
   "source": [
    "## Task 4 of 8\n",
    "### Least Common Multiple"
   ]
  },
  {
   "cell_type": "markdown",
   "id": "26d97dae",
   "metadata": {},
   "source": [
    "*The least common multiple LCM (a, b) of two positive integers a and b is the smallest integer that is divisible by both a and b.*"
   ]
  },
  {
   "cell_type": "code",
   "execution_count": 50,
   "id": "c5eab5d2",
   "metadata": {},
   "outputs": [
    {
     "name": "stdout",
     "output_type": "stream",
     "text": [
      "8 15\n",
      "120\n"
     ]
    }
   ],
   "source": [
    "def lcm(a, b):\n",
    "#     for l in range(1, a * b + 1):\n",
    "#         if l % a == 0 and l % b == 0:\n",
    "#             return l\n",
    "\n",
    "#     assert False\n",
    "\n",
    "    if (a < 1) or (b < 1):\n",
    "        return None\n",
    "    \n",
    "    gcd_of_ab = gcd(a, b)\n",
    "    \n",
    "    lcm_of_ab = a * (b / gcd_of_ab)\n",
    "    \n",
    "    return int(lcm_of_ab)\n",
    "\n",
    "\n",
    "if __name__ == '__main__':\n",
    "    a, b = map(int, input().split())\n",
    "    print(lcm(a, b))\n"
   ]
  },
  {
   "cell_type": "markdown",
   "id": "59f7ad2b",
   "metadata": {},
   "source": [
    "## Task 5 of 8\n",
    "### Huge Fibonacci Number"
   ]
  },
  {
   "cell_type": "markdown",
   "id": "b4d0d073",
   "metadata": {},
   "source": [
    "*Compute the n-th Fibonacci number modulo m.\n",
    "Input: Integers n and m.\n",
    "Output: n-th Fibonacci number modulo m.*"
   ]
  },
  {
   "cell_type": "code",
   "execution_count": 54,
   "id": "18b6a9fe",
   "metadata": {},
   "outputs": [
    {
     "name": "stdout",
     "output_type": "stream",
     "text": [
      "2816213588 239\n",
      "151\n"
     ]
    }
   ],
   "source": [
    "def fibonacci_huge_naive(n, m):\n",
    "#     if n <= 1:\n",
    "#         return n\n",
    "\n",
    "#     previous = 0\n",
    "#     current  = 1\n",
    "\n",
    "#     for _ in range(n - 1):\n",
    "#         previous, current = current, previous + current\n",
    "\n",
    "#     return current % m\n",
    "\n",
    "\n",
    "# For a given value of N and M >= 2, the series generated with Fi modulo M (for i in range(N)) is periodic. \n",
    "# The period always starts with 01. The Pisano Period is defined as the length of the period of this series.\n",
    "# For M = 2, the period is 011 and has length 3 while for M = 3 the sequence repeats after 8 nos.\n",
    "    #Pisano period\n",
    "    \n",
    "    def pisanoPeriod(m):\n",
    "        \n",
    "        previous, current = 0, 1\n",
    "        \n",
    "        for i in range(0, m * m):\n",
    "            previous, current = current, (previous + current) % m\n",
    "\n",
    "            # A Pisano Period starts with 01\n",
    "            if (previous == 0 and current == 1):\n",
    "                return i + 1\n",
    "\n",
    "\n",
    "    # Getting the period\n",
    "    pisano_period = pisanoPeriod(m)\n",
    "\n",
    "    # Taking mod of N with period length\n",
    "    n = n % pisano_period\n",
    "\n",
    "    previous, current = 0, 1\n",
    "    \n",
    "    if n==0:\n",
    "        return 0\n",
    "    elif n==1:\n",
    "        return 1\n",
    "    for i in range(n-1):\n",
    "        previous, current = current, previous + current\n",
    "\n",
    "    return (current % m)\n",
    "\n",
    "\n",
    "if __name__ == '__main__':\n",
    "    n, m = map(int, input().split())\n",
    "    print(fibonacci_huge_naive(n, m))"
   ]
  },
  {
   "cell_type": "markdown",
   "id": "71ebc785",
   "metadata": {},
   "source": [
    "## Task 6 of 8\n",
    "### Last Digit of the Sum of Fibonacci Numbers"
   ]
  },
  {
   "cell_type": "markdown",
   "id": "9576f96e",
   "metadata": {},
   "source": [
    "*Compute the last digit of F0 + F1 + · · · + Fn.*\n",
    "\n",
    "*Input: An integer n.*\n",
    "\n",
    "*Output: The last digit of F0 +F1 + · · · + Fn.*"
   ]
  },
  {
   "cell_type": "code",
   "execution_count": 43,
   "id": "3d24cfd4",
   "metadata": {},
   "outputs": [
    {
     "name": "stdout",
     "output_type": "stream",
     "text": [
      "1000000\n",
      "5\n",
      "CPU times: total: 93.8 ms\n",
      "Wall time: 3.82 s\n"
     ]
    }
   ],
   "source": [
    "def fibonacci_sum(n):\n",
    "#     if n <= 1:\n",
    "#         return n\n",
    "\n",
    "#     previous, current, _sum = 0, 1, 1\n",
    "\n",
    "#     for _ in range(n - 1):\n",
    "#         previous, current = current, previous + current\n",
    "#         _sum += current\n",
    "\n",
    "#     return _sum % 10\n",
    "\n",
    "    #ищем сумму только последних чисел\n",
    "    #создадим список 60, еоторые повторяются\n",
    "    last_digit_of_fib_num_list = [0] * 61\n",
    "    last_digit_of_fib_num_list[0] = 0\n",
    "    last_digit_of_fib_num_list[1] = 1\n",
    "    \n",
    "    previous = 0\n",
    "    current = 1\n",
    "    \n",
    "    for i in range(2, 61):\n",
    "        previous, current = current, previous + current\n",
    "        last_digit_of_fib_num_list[i] = current % 10\n",
    "        \n",
    "    sum_ = 0\n",
    "    \n",
    "    #цикл суммы последних чисел\n",
    "    for i in range(n + 1):\n",
    "        remainder = i % 60\n",
    "        sum_ += last_digit_of_fib_num_list[remainder]\n",
    "        \n",
    "    return sum_ % 10\n",
    "\n",
    "if __name__ == '__main__':\n",
    "    n = int(input())\n",
    "    print(fibonacci_sum(n))"
   ]
  },
  {
   "cell_type": "markdown",
   "id": "1bbfdfdd",
   "metadata": {},
   "source": [
    "## Task 7 of 8\n",
    "### Last Digit of the Partial Sum of Fibonacci Numbers"
   ]
  },
  {
   "cell_type": "markdown",
   "id": "a9d5ef3f",
   "metadata": {},
   "source": [
    "*Compute the last digit of Fm + Fm+1 + · · · + Fn.*\n",
    "\n",
    "*Input: Integers m ≤ n.*\n",
    "    \n",
    "*Output: The last digit of Fm + Fm+1 + · · · + Fn.*"
   ]
  },
  {
   "cell_type": "code",
   "execution_count": 8,
   "id": "5aca586b",
   "metadata": {},
   "outputs": [
    {
     "name": "stdout",
     "output_type": "stream",
     "text": [
      "3 7\n",
      "1\n"
     ]
    }
   ],
   "source": [
    "import sys\n",
    "\n",
    "def fibonacci_partial_sum_naive(from_, to):\n",
    "#     _sum = 0\n",
    "\n",
    "#     current = 0\n",
    "#     _next  = 1\n",
    "\n",
    "#     for i in range(to + 1):\n",
    "#         if i >= from_:\n",
    "#             _sum += current\n",
    "\n",
    "#         current, _next = _next, current + _next\n",
    "\n",
    "#     return _sum % 10\n",
    "\n",
    "\n",
    "\n",
    "    #ищем сумму только последних чисел\n",
    "    #создадим список 60, еоторые повторяются\n",
    "    last_digit_of_fib_num_list = [0] * 61\n",
    "    last_digit_of_fib_num_list[0] = 0\n",
    "    last_digit_of_fib_num_list[1] = 1\n",
    "    \n",
    "    previous = 0\n",
    "    current = 1\n",
    "    \n",
    "    for i in range(2, 61):\n",
    "        previous, current = current, previous + current\n",
    "        last_digit_of_fib_num_list[i] = current % 10\n",
    "        \n",
    "    sum_ = 0\n",
    "    \n",
    "    #цикл суммы последних чисел\n",
    "    for i in range(from_, to + 1):\n",
    "        remainder = i % 60\n",
    "        sum_ += last_digit_of_fib_num_list[remainder]\n",
    "        \n",
    "    return sum_ % 10\n",
    "\n",
    "\n",
    "if __name__ == '__main__':\n",
    "    input = sys.stdin.read();\n",
    "    from_, to = map(int, input.split())\n",
    "    print(fibonacci_partial_sum_naive(from_, to))\n",
    "    \n",
    "    \n",
    "    \n",
    "# if __name__ == '__main__':\n",
    "#     input_ = input();\n",
    "#     from_, to = map(int, input_.split())\n",
    "#     print(fibonacci_partial_sum_naive(from_, to))\n",
    "\n"
   ]
  },
  {
   "cell_type": "markdown",
   "id": "01172a39",
   "metadata": {},
   "source": [
    "## Task 8 of 8\n",
    "### Last Digit of the Sum of Squares of Fibonacci Numbers"
   ]
  },
  {
   "cell_type": "markdown",
   "id": "d5cde222",
   "metadata": {},
   "source": [
    "*Compute the last digit of the Sum of Squares of Fibonacci Numbers*\n",
    "\n",
    "*Input: An integer n.*\n",
    "\n",
    "*Output: The last digit of F0^2 + F1^2 + ... Fn^2*"
   ]
  },
  {
   "cell_type": "code",
   "execution_count": 21,
   "id": "1905bc86",
   "metadata": {},
   "outputs": [
    {
     "name": "stdout",
     "output_type": "stream",
     "text": [
      "123456\n",
      "4\n",
      "CPU times: total: 31.2 ms\n",
      "Wall time: 1.59 s\n"
     ]
    }
   ],
   "source": [
    "def fibonacci_sum_squares(n):\n",
    "#     if n <= 1:\n",
    "#         return n\n",
    "\n",
    "#     previous, current, sum = 0, 1, 1\n",
    "\n",
    "#     for _ in range(n - 1):\n",
    "#         previous, current = current, previous + current\n",
    "#         sum += current * current\n",
    "\n",
    "#     return sum % 10\n",
    "\n",
    "    \n",
    "    if n <= 1:\n",
    "        return n\n",
    "\n",
    "    previous, current = 0, 1\n",
    "    \n",
    "    #создадим список 60, которые повторяются\n",
    "    last_digit_of_fib_num_list = [0] * 61\n",
    "    last_digit_of_fib_num_list[0] = 0\n",
    "    last_digit_of_fib_num_list[1] = 1\n",
    "    \n",
    "    previous = 0\n",
    "    current = 1\n",
    "    \n",
    "    for i in range(2, 61):\n",
    "        previous, current = current, previous + current\n",
    "        last_digit_of_fib_num_list[i] = current % 10\n",
    "    \n",
    "    \n",
    "    #using a rectangle area vizualization\n",
    "    side_A = last_digit_of_fib_num_list[n % 60] #Fn послед цифра\n",
    "    \n",
    "    side_B = last_digit_of_fib_num_list[(n-1) % 60] +\\\n",
    "            last_digit_of_fib_num_list[n % 60] #Fn+F(n-1) послед цифра\n",
    "    \n",
    "    return (side_A * side_B) % 10\n",
    "\n",
    "\n",
    "if __name__ == '__main__':\n",
    "    n = int(input())\n",
    "    print(fibonacci_sum_squares(n))"
   ]
  },
  {
   "cell_type": "markdown",
   "id": "bfa884d4",
   "metadata": {},
   "source": [
    "## Bonus. Interview questions"
   ]
  },
  {
   "cell_type": "markdown",
   "id": "62858618",
   "metadata": {},
   "source": [
    "<img src=\"C1_W2_interview%20questions.png\" width=\"450\">"
   ]
  },
  {
   "cell_type": "code",
   "execution_count": 44,
   "id": "d2ad1708",
   "metadata": {},
   "outputs": [
    {
     "name": "stdout",
     "output_type": "stream",
     "text": [
      "n rebels, k-th killed: 13 3\n",
      "Rebel to kill:  2\n",
      "Remaining:  [0, 1, 3, 4, 5, 6, 7, 8, 9, 10, 11, 12]\n",
      "Rebel to kill:  5\n",
      "Remaining:  [0, 1, 3, 4, 6, 7, 8, 9, 10, 11, 12]\n",
      "Rebel to kill:  8\n",
      "Remaining:  [0, 1, 3, 4, 6, 7, 9, 10, 11, 12]\n",
      "Rebel to kill:  11\n",
      "Remaining:  [0, 1, 3, 4, 6, 7, 9, 10, 12]\n",
      "Remaining:  [0, 3, 4, 6, 7, 9, 10, 12]\n",
      "Rebel to kill:  6\n",
      "Remaining:  [0, 3, 4, 7, 9, 10, 12]\n",
      "Rebel to kill:  10\n",
      "Remaining:  [0, 3, 4, 7, 9, 12]\n",
      "Remaining:  [0, 4, 7, 9, 12]\n",
      "Rebel to kill:  9\n",
      "Remaining:  [0, 4, 7, 12]\n",
      "Remaining:  [0, 7, 12]\n",
      "Remaining:  [7, 12]\n",
      "Remaining:  [12]\n",
      "Survivor:  [12]\n"
     ]
    }
   ],
   "source": [
    "n, k = map(int, input('n rebels, k-th killed: ').split())\n",
    "\n",
    "alive_rebels = [x for x in range(n)]\n",
    "\n",
    "next_killed_index = 0\n",
    "\n",
    "while len(alive_rebels) > 1:\n",
    "    \n",
    "    if (next_killed_index + k) < len(alive_rebels):\n",
    "        next_killed_index = (next_killed_index - 1) + k\n",
    "        print(\"Rebel to kill: \", alive_rebels[next_killed_index])\n",
    "        del alive_rebels[next_killed_index]\n",
    "        print('Remaining: ', alive_rebels)\n",
    "        \n",
    "    else:\n",
    "        counter = 0\n",
    "        while (counter < k):\n",
    "            if next_killed_index < len(alive_rebels):\n",
    "                next_killed_index += 1\n",
    "                counter += 1\n",
    "            else:\n",
    "                next_killed_index = 0\n",
    "                counter += 1\n",
    "        del alive_rebels[next_killed_index]\n",
    "        print('Remaining: ', alive_rebels)\n",
    "    \n",
    "\n",
    "print(\"Survivor: \", alive_rebels)"
   ]
  },
  {
   "cell_type": "markdown",
   "id": "956f1934",
   "metadata": {},
   "source": [
    "-----\n",
    "-----\n",
    "## Week 3. Greedy Algorithms\n",
    "-----\n",
    "-----"
   ]
  },
  {
   "cell_type": "markdown",
   "id": "214c9cbb",
   "metadata": {},
   "source": [
    "## Task 1 of 7\n",
    "### Money Change"
   ]
  },
  {
   "cell_type": "markdown",
   "id": "bb5a2b1e",
   "metadata": {},
   "source": [
    "*Compute the minimum number of coins needed to change the given value into coins with denominations 1, 5, and 10.*\n",
    "\n",
    "**Input**: *An integer money.*\n",
    "\n",
    "**Output**: *The minimum number of coins with denominations 1, 5, and 10 that changes money.*"
   ]
  },
  {
   "cell_type": "code",
   "execution_count": 3,
   "id": "c20412b6",
   "metadata": {},
   "outputs": [
    {
     "name": "stdout",
     "output_type": "stream",
     "text": [
      "28\n",
      "6\n"
     ]
    }
   ],
   "source": [
    "def change(money):\n",
    "    # write your code here\n",
    "    num_of_coins = 0\n",
    "    \n",
    "    while (money > 0):\n",
    "        if money > 10:\n",
    "            money -= 10\n",
    "        elif money > 5:\n",
    "            money -= 5\n",
    "        else:\n",
    "            money -= 1\n",
    "        \n",
    "        num_of_coins += 1  \n",
    "        \n",
    "    return num_of_coins\n",
    "\n",
    "\n",
    "if __name__ == '__main__':\n",
    "    m = int(input())\n",
    "    print(change(m))"
   ]
  },
  {
   "cell_type": "markdown",
   "id": "507585bf",
   "metadata": {},
   "source": [
    "## Task 2 of 7\n",
    "### Maximum Value of the Loot"
   ]
  },
  {
   "cell_type": "markdown",
   "id": "bb68a6a7",
   "metadata": {},
   "source": [
    "*Find the maximal value of items that fit into the backpack.*\n",
    "\n",
    "**Input**: *The capacity of a backpack W as well as the weights (w1, . . . ,wn) and costs (c1, . . . , cn) of n different compounds.*\n",
    "\n",
    "**Output**: *The maximum total value of fractions of items that fit into the backpack of the given capacity: i.e., the maximum value of c1 · f1 + · · · + cn · fn such that w1·f1+· · ·+wn·fn ≤W and 0 ≤ fi ≤ 1 for all i (fi is the fraction of the i-th item taken to the backpack).*\n",
    "\n",
    "**Input format**. *The first line of the input contains the number n of compounds and the capacity W of a backpack. The next n lines define the costs and weights of the compounds. The i-th line contains the cost ci and the weight wi of the i-th compound.*\n",
    "\n",
    "**Output format**. *Output the maximum value of compounds that fit into the backpack.*"
   ]
  },
  {
   "cell_type": "code",
   "execution_count": 10,
   "id": "b0a92fa3",
   "metadata": {},
   "outputs": [
    {
     "name": "stdout",
     "output_type": "stream",
     "text": [
      "3 50 60 20 100 50 120 30\n",
      "180.0000000000\n"
     ]
    }
   ],
   "source": [
    "from sys import stdin\n",
    "\n",
    "\n",
    "def optimal_value(capacity, weights, values):\n",
    "    value = 0.\n",
    "    # write your code here\n",
    "    \n",
    "    if (capacity == 0) or (weights is None):\n",
    "        return 0\n",
    "    \n",
    "    items_price_per_weight = [v/w for v,w in zip(values, weights)]\n",
    "    \n",
    "    index_of_most_expensive_item = items_price_per_weight.index(max(items_price_per_weight))\n",
    "    \n",
    "    amount_to_take = min(capacity, weights[index_of_most_expensive_item])\n",
    "    \n",
    "    value += values[index_of_most_expensive_item] * (amount_to_take / weights[index_of_most_expensive_item])\n",
    "    capacity -= amount_to_take\n",
    "    \n",
    "    del weights[index_of_most_expensive_item]\n",
    "    del values[index_of_most_expensive_item]\n",
    "    \n",
    "    return value + optimal_value(capacity, weights, values)\n",
    "\n",
    "\n",
    "if __name__ == \"__main__\":\n",
    "    input1 = input().split();\n",
    "    data = list(map(int, input1))\n",
    "    n, capacity = data[0:2]\n",
    "    values = data[2:(2 * n + 2):2]\n",
    "    weights = data[3:(2 * n + 2):2]\n",
    "    opt_value = optimal_value(capacity, weights, values)\n",
    "    print(\"{:.10f}\".format(opt_value))\n",
    "\n",
    "\n",
    "# if __name__ == \"__main__\":\n",
    "#     data = list(map(int, stdin.read().split()))\n",
    "#     n, capacity = data[0:2]\n",
    "#     values = data[2:(2 * n + 2):2]\n",
    "#     weights = data[3:(2 * n + 2):2]\n",
    "#     opt_value = optimal_value(capacity, weights, values)\n",
    "#     print(\"{:.10f}\".format(opt_value))"
   ]
  },
  {
   "cell_type": "code",
   "execution_count": 11,
   "id": "86d7f5f0",
   "metadata": {},
   "outputs": [
    {
     "name": "stdout",
     "output_type": "stream",
     "text": [
      "1 10 500 30\n",
      "166.6666666667\n"
     ]
    }
   ],
   "source": [
    "if __name__ == \"__main__\":\n",
    "    input1 = input().split();\n",
    "    data = list(map(int, input1))\n",
    "    n, capacity = data[0:2]\n",
    "    values = data[2:(2 * n + 2):2]\n",
    "    weights = data[3:(2 * n + 2):2]\n",
    "    opt_value = optimal_value(capacity, weights, values)\n",
    "    print(\"{:.10f}\".format(opt_value))"
   ]
  },
  {
   "cell_type": "markdown",
   "id": "e94348c1",
   "metadata": {},
   "source": [
    "## Task 3 of 7\n",
    "### Car Fueling"
   ]
  },
  {
   "cell_type": "markdown",
   "id": "561897b5",
   "metadata": {},
   "source": [
    "*Compute the minimum number of gas tank refills to get from one city to another.*\n",
    "\n",
    "**Input**: *Integers d and m, as well as a sequence of integers stop1 < stop2 < · · · < stopn.*\n",
    "\n",
    "**Output**: *The minimum number of refills to get from one city to another if a car can travel at most m miles on a full tank. The distance between the cities is d miles and there are gas stations at distances stop1,stop2, . . . ,stopn along the way. We assume that a car starts with a full tank.*\n",
    "\n",
    "**Input format**. *The first line contains an integer d. The second line contains an integer m. The third line specifies an integer n. Finally, the last line contains integers stop1,stop2, . . . ,stopn.*\n",
    "\n",
    "**Output format**. *The minimum number of refills needed. If it is not possible to reach the destination, output −1.*\n",
    "\n",
    "**Constraints**. *1 ≤ d ≤ 105. 1 ≤ m ≤ 400. 1 ≤ n ≤ 300. 0 < stop1 < stop2 < · · · < stopn < d.*"
   ]
  },
  {
   "cell_type": "code",
   "execution_count": 18,
   "id": "5e2843b7",
   "metadata": {},
   "outputs": [
    {
     "name": "stdout",
     "output_type": "stream",
     "text": [
      "950 400 4 200 375 550 750\n",
      "2\n"
     ]
    }
   ],
   "source": [
    "from sys import stdin\n",
    "\n",
    "\n",
    "def min_refills(distance, tank, stops):\n",
    "    # write your code here\n",
    "\n",
    "    #go the whole way without refueling\n",
    "    if distance < tank:\n",
    "        return 0\n",
    "    \n",
    "    #distance between last gas station and final destination is bigger than possible range on one tank of gas\n",
    "    if (distance - stops[-1]) > tank: \n",
    "        return -1\n",
    "\n",
    "    #distance between any two gas stations is bigger than possible range on one tank of gas\n",
    "    dist_betw_stops = [stops[x]-stops[x-1] for x in range(1, len(stops))]\n",
    "    \n",
    "    for dist in dist_betw_stops:\n",
    "        if dist > tank:\n",
    "            return -1\n",
    "\n",
    "    #take whatever gas station is in max range  \n",
    "    remaining_distance = distance\n",
    "    number_of_refils = 0\n",
    "    current_position = 0\n",
    "    station_to_go_next = 0\n",
    "    \n",
    "    while (remaining_distance > 0):\n",
    "        \n",
    "        if remaining_distance <= tank:\n",
    "            return number_of_refils\n",
    "\n",
    "        for station in stops:\n",
    "            if (current_position + tank) > station:\n",
    "                station_to_go_next = station\n",
    "    \n",
    "        number_of_refils += 1\n",
    "        current_position = station_to_go_next\n",
    "        remaining_distance = distance - current_position\n",
    "\n",
    "if __name__ == '__main__':\n",
    "    input1 = input().split();\n",
    "    d, m, _, *stops = map(int, input1)\n",
    "    print(min_refills(d, m, stops))\n",
    "\n",
    "\n",
    "# if __name__ == '__main__':\n",
    "#     d, m, _, *stops = map(int, stdin.read().split())\n",
    "#     print(min_refills(d, m, stops))\n"
   ]
  },
  {
   "cell_type": "code",
   "execution_count": 19,
   "id": "eecdb4ef",
   "metadata": {},
   "outputs": [
    {
     "name": "stdout",
     "output_type": "stream",
     "text": [
      "10 3 4 1 2 5 9\n",
      "-1\n"
     ]
    }
   ],
   "source": [
    "if __name__ == '__main__':\n",
    "    input1 = input().split();\n",
    "    d, m, _, *stops = map(int, input1)\n",
    "    print(min_refills(d, m, stops))"
   ]
  },
  {
   "cell_type": "code",
   "execution_count": 20,
   "id": "84ddc58f",
   "metadata": {},
   "outputs": [
    {
     "name": "stdout",
     "output_type": "stream",
     "text": [
      "200 250 2 100 150\n",
      "0\n"
     ]
    }
   ],
   "source": [
    "if __name__ == '__main__':\n",
    "    input1 = input().split();\n",
    "    d, m, _, *stops = map(int, input1)\n",
    "    print(min_refills(d, m, stops))"
   ]
  },
  {
   "cell_type": "markdown",
   "id": "569109db",
   "metadata": {},
   "source": [
    "## Task 4 of 7\n",
    "### "
   ]
  },
  {
   "cell_type": "markdown",
   "id": "2ff9f6fd",
   "metadata": {},
   "source": [
    "## Task 5 of 7\n",
    "### "
   ]
  },
  {
   "cell_type": "markdown",
   "id": "1506d701",
   "metadata": {},
   "source": [
    "## Task 6 of 7\n",
    "### "
   ]
  },
  {
   "cell_type": "markdown",
   "id": "6d13ab3a",
   "metadata": {},
   "source": [
    "## Task 7 of 7\n",
    "### "
   ]
  },
  {
   "cell_type": "markdown",
   "id": "fa458733",
   "metadata": {},
   "source": [
    "-----\n",
    "## Week 4. Divide-and-Conquer\n",
    "-----"
   ]
  },
  {
   "cell_type": "markdown",
   "id": "997d3211",
   "metadata": {},
   "source": [
    "## Task 1 of 7\n",
    "### "
   ]
  },
  {
   "cell_type": "markdown",
   "id": "b34e0f3e",
   "metadata": {},
   "source": [
    "## Task 2 of 7\n",
    "### "
   ]
  },
  {
   "cell_type": "markdown",
   "id": "078a5961",
   "metadata": {},
   "source": [
    "## Task 3 of 7\n",
    "### "
   ]
  },
  {
   "cell_type": "markdown",
   "id": "c9a7279c",
   "metadata": {},
   "source": [
    "## Task 4 of 7\n",
    "### "
   ]
  },
  {
   "cell_type": "markdown",
   "id": "f825831e",
   "metadata": {},
   "source": [
    "## Task 5 of 7\n",
    "### "
   ]
  },
  {
   "cell_type": "markdown",
   "id": "b776b48b",
   "metadata": {},
   "source": [
    "## Task 6 of 7\n",
    "### "
   ]
  },
  {
   "cell_type": "markdown",
   "id": "e3375b37",
   "metadata": {},
   "source": [
    "## Task 7 of 7\n",
    "### "
   ]
  },
  {
   "cell_type": "markdown",
   "id": "2fd4baca",
   "metadata": {},
   "source": [
    "-----\n",
    "## Week 5. Dynamic Programming 1\n",
    "-----"
   ]
  },
  {
   "cell_type": "markdown",
   "id": "5f9e0aa2",
   "metadata": {},
   "source": [
    "## Task 1 of 5\n",
    "### "
   ]
  },
  {
   "cell_type": "markdown",
   "id": "aae03552",
   "metadata": {},
   "source": [
    "## Task 2 of 5\n",
    "### "
   ]
  },
  {
   "cell_type": "markdown",
   "id": "349aabfe",
   "metadata": {},
   "source": [
    "## Task 3 of 5\n",
    "### "
   ]
  },
  {
   "cell_type": "markdown",
   "id": "c8aa4183",
   "metadata": {},
   "source": [
    "## Task 4 of 5\n",
    "### "
   ]
  },
  {
   "cell_type": "markdown",
   "id": "5a640c4b",
   "metadata": {},
   "source": [
    "## Task 5 of 5\n",
    "### "
   ]
  },
  {
   "cell_type": "markdown",
   "id": "0808efe2",
   "metadata": {},
   "source": [
    "-----\n",
    "## Week 6. Dynamic Programming 2\n",
    "-----"
   ]
  },
  {
   "cell_type": "markdown",
   "id": "b7366cfa",
   "metadata": {},
   "source": [
    "## Task 1 of 3\n",
    "### "
   ]
  },
  {
   "cell_type": "markdown",
   "id": "6b14aac8",
   "metadata": {},
   "source": [
    "## Task 2 of 3\n",
    "### "
   ]
  },
  {
   "cell_type": "markdown",
   "id": "0aeb5541",
   "metadata": {},
   "source": [
    "## Task 3 of 3\n",
    "### "
   ]
  },
  {
   "cell_type": "code",
   "execution_count": null,
   "id": "9cbc2d69",
   "metadata": {},
   "outputs": [],
   "source": []
  }
 ],
 "metadata": {
  "kernelspec": {
   "display_name": "Python 3 (ipykernel)",
   "language": "python",
   "name": "python3"
  },
  "language_info": {
   "codemirror_mode": {
    "name": "ipython",
    "version": 3
   },
   "file_extension": ".py",
   "mimetype": "text/x-python",
   "name": "python",
   "nbconvert_exporter": "python",
   "pygments_lexer": "ipython3",
   "version": "3.10.11"
  }
 },
 "nbformat": 4,
 "nbformat_minor": 5
}
